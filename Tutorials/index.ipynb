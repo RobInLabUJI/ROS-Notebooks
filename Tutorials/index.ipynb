{
 "cells": [
  {
   "cell_type": "markdown",
   "metadata": {},
   "source": [
    "## Core ROS Tutorials"
   ]
  },
  {
   "cell_type": "markdown",
   "metadata": {},
   "source": [
    "### Beginner Level"
   ]
  },
  {
   "cell_type": "markdown",
   "metadata": {},
   "source": [
    "#### [Understanding ROS nodes](UnderstandingNodes.ipynb)\n",
    "\n",
    "This tutorial introduces ROS graph concepts and discusses the use of roscore, rosnode, and rosrun commandline tools."
   ]
  },
  {
   "cell_type": "markdown",
   "metadata": {},
   "source": [
    "#### [Understanding ROS Topics](UnderstandingTopics.ipynb)\n",
    "\n",
    "This tutorial introduces ROS topics as well as using the rostopic and rqt_plot commandline tools."
   ]
  },
  {
   "cell_type": "markdown",
   "metadata": {},
   "source": [
    "#### [Understanding ROS Services and Parameters](UnderstandingServicesParams.ipynb)\n",
    "\n",
    "This tutorial introduces ROS services, and parameters as well as using the rosservice and rosparam commandline tools. "
   ]
  },
  {
   "cell_type": "code",
   "execution_count": null,
   "metadata": {},
   "outputs": [],
   "source": []
  }
 ],
 "metadata": {
  "kernelspec": {
   "display_name": "Python 2",
   "language": "python",
   "name": "python2"
  },
  "language_info": {
   "codemirror_mode": {
    "name": "ipython",
    "version": 2
   },
   "file_extension": ".py",
   "mimetype": "text/x-python",
   "name": "python",
   "nbconvert_exporter": "python",
   "pygments_lexer": "ipython2",
   "version": "2.7.6"
  }
 },
 "nbformat": 4,
 "nbformat_minor": 2
}
