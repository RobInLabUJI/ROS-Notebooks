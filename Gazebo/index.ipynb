{
 "cells": [
  {
   "cell_type": "markdown",
   "metadata": {},
   "source": [
    "## TurtleBot in Gazebo"
   ]
  },
  {
   "cell_type": "code",
   "execution_count": null,
   "metadata": {},
   "outputs": [],
   "source": [
    "%%bash --bg\n",
    "roslaunch turtlebot_gazebo turtlebot_world.launch"
   ]
  },
  {
   "cell_type": "code",
   "execution_count": null,
   "metadata": {},
   "outputs": [],
   "source": [
    "import rospy\n",
    "import math\n",
    "\n",
    "from geometry_msgs.msg import Twist\n",
    "from nav_msgs.msg import Odometry"
   ]
  },
  {
   "cell_type": "code",
   "execution_count": null,
   "metadata": {},
   "outputs": [],
   "source": [
    "rospy.init_node('turtlebot_controller')"
   ]
  },
  {
   "cell_type": "code",
   "execution_count": null,
   "metadata": {},
   "outputs": [],
   "source": [
    "def callback_odom(data):\n",
    "    global x\n",
    "    global y\n",
    "    global theta\n",
    "    position = data.pose.pose.position\n",
    "    orientation = data.pose.pose.orientation\n",
    "    x = round(position.x, 3)\n",
    "    y = round(position.y, 3)\n",
    "    theta = round(2*math.atan2(orientation.z,orientation.w), 3)"
   ]
  },
  {
   "cell_type": "code",
   "execution_count": null,
   "metadata": {},
   "outputs": [],
   "source": [
    "subscriber = rospy.Subscriber(\"odom\", Odometry, callback_odom)\n",
    "publisher = rospy.Publisher('cmd_vel_mux/input/teleop', Twist, queue_size=10)"
   ]
  },
  {
   "cell_type": "code",
   "execution_count": null,
   "metadata": {},
   "outputs": [],
   "source": [
    "print (x,y,theta)\n",
    "twist = Twist()\n",
    "twist.linear.x = 0.2\n",
    "twist.angular.z = 0.0\n",
    "r = rospy.Rate(10)\n",
    "for i in range(40):\n",
    "    publisher.publish(twist)\n",
    "    r.sleep()\n",
    "print (x,y,theta)"
   ]
  },
  {
   "cell_type": "code",
   "execution_count": null,
   "metadata": {},
   "outputs": [],
   "source": [
    "print (x,y,theta)\n",
    "twist = Twist()\n",
    "twist.linear.x = 0.0\n",
    "twist.angular.z = -0.5\n",
    "r = rospy.Rate(10)\n",
    "for i in range(20):\n",
    "    publisher.publish(twist)\n",
    "    r.sleep()\n",
    "print (x,y,theta)"
   ]
  },
  {
   "cell_type": "code",
   "execution_count": null,
   "metadata": {},
   "outputs": [],
   "source": [
    "%%bash\n",
    "rosnode kill --all\n",
    "killall gzserver\n",
    "killall gzclient\n",
    "killall rosmaster\n",
    "killall rosout"
   ]
  },
  {
   "cell_type": "code",
   "execution_count": null,
   "metadata": {},
   "outputs": [],
   "source": []
  }
 ],
 "metadata": {
  "kernelspec": {
   "display_name": "Python 2",
   "language": "python",
   "name": "python2"
  },
  "language_info": {
   "codemirror_mode": {
    "name": "ipython",
    "version": 2
   },
   "file_extension": ".py",
   "mimetype": "text/x-python",
   "name": "python",
   "nbconvert_exporter": "python",
   "pygments_lexer": "ipython2",
   "version": "2.7.6"
  }
 },
 "nbformat": 4,
 "nbformat_minor": 2
}
