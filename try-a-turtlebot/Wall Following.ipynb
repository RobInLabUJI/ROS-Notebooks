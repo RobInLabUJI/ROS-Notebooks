{
 "cells": [
  {
   "cell_type": "code",
   "execution_count": 1,
   "metadata": {},
   "outputs": [],
   "source": [
    "from try_a_bot.turtle import TurtleBot"
   ]
  },
  {
   "cell_type": "code",
   "execution_count": 2,
   "metadata": {},
   "outputs": [],
   "source": [
    "robot = TurtleBot()"
   ]
  },
  {
   "cell_type": "code",
   "execution_count": 3,
   "metadata": {},
   "outputs": [],
   "source": [
    "LEFT_BACK = 0\n",
    "LEFT = 120\n",
    "LEFT_FRONT = 240 \n",
    "FRONT_LEFT = 300\n",
    "FRONT = 360\n",
    "FRONT_RIGHT = 420\n",
    "RIGHT_FRONT = 480\n",
    "RIGHT = 600\n",
    "RIGHT_BACK = 719"
   ]
  },
  {
   "cell_type": "code",
   "execution_count": 4,
   "metadata": {},
   "outputs": [],
   "source": [
    "MIN_WALL_THRESHOLD = 0.6\n",
    "MAX_WALL_THRESHOLD = 0.8\n",
    "DEF_X_SPEED = 0.25\n",
    "DEF_YAW_SPEED = 0.4"
   ]
  },
  {
   "cell_type": "code",
   "execution_count": 5,
   "metadata": {},
   "outputs": [],
   "source": [
    "def getSides(ranges):\n",
    "    leftSide = min(ranges[FRONT_LEFT],ranges[LEFT],ranges[LEFT_FRONT])\n",
    "    frontSide = min(ranges[FRONT],ranges[FRONT_LEFT])\n",
    "    return (leftSide,frontSide)"
   ]
  },
  {
   "cell_type": "code",
   "execution_count": 6,
   "metadata": {},
   "outputs": [],
   "source": [
    "ranges = robot.ranges\n",
    "leftSide, frontSide = getSides(ranges)\n",
    "while (leftSide > MAX_WALL_THRESHOLD and frontSide > MAX_WALL_THRESHOLD):\n",
    "    robot.move(DEF_X_SPEED,0)\n",
    "    robot.sleep(0.1)\n",
    "    ranges = robot.ranges\n",
    "    leftSide, frontSide = getSides(ranges)\n",
    "robot.move(0,0)"
   ]
  },
  {
   "cell_type": "code",
   "execution_count": 7,
   "metadata": {},
   "outputs": [],
   "source": [
    "ranges = robot.ranges\n",
    "previousLeftSide = ranges[LEFT]\n",
    "while (ranges[LEFT] <= previousLeftSide):\n",
    "    previousLeftSide = ranges[LEFT]\n",
    "    if min(leftSide, frontSide) == frontSide:\n",
    "        yawSpeed = -DEF_YAW_SPEED * 2\n",
    "    else:\n",
    "        yawSpeed = -DEF_YAW_SPEED\n",
    "    robot.move(0,yawSpeed)\n",
    "    robot.sleep(0.1)\n",
    "    ranges = robot.ranges\n",
    "robot.move(0,0)"
   ]
  },
  {
   "cell_type": "code",
   "execution_count": null,
   "metadata": {},
   "outputs": [],
   "source": [
    "try:\n",
    "    while True:\n",
    "        ranges = robot.ranges\n",
    "        leftSide, frontSide = getSides(ranges)\n",
    "        xSpeed = DEF_X_SPEED\n",
    "        yawSpeed = 0\n",
    "        if frontSide < MAX_WALL_THRESHOLD:\n",
    "            xSpeed = -0.1\n",
    "            yawSpeed = -DEF_YAW_SPEED * 4\n",
    "        else:\n",
    "            if leftSide < MIN_WALL_THRESHOLD:\n",
    "                xSpeed = DEF_X_SPEED / 2\n",
    "                yawSpeed = -DEF_YAW_SPEED\n",
    "            else:\n",
    "                 if leftSide > MAX_WALL_THRESHOLD:\n",
    "                     xSpeed = DEF_X_SPEED / 2\n",
    "                     yawSpeed = DEF_YAW_SPEED\n",
    "        robot.move(xSpeed,yawSpeed)\n",
    "        robot.sleep(0.1)\n",
    "except KeyboardInterrupt:\n",
    "    pass\n",
    "robot.move(0,0)"
   ]
  },
  {
   "cell_type": "code",
   "execution_count": null,
   "metadata": {},
   "outputs": [],
   "source": []
  }
 ],
 "metadata": {
  "kernelspec": {
   "display_name": "Python 2",
   "language": "python",
   "name": "python2"
  },
  "language_info": {
   "codemirror_mode": {
    "name": "ipython",
    "version": 2
   },
   "file_extension": ".py",
   "mimetype": "text/x-python",
   "name": "python",
   "nbconvert_exporter": "python",
   "pygments_lexer": "ipython2",
   "version": "2.7.6"
  }
 },
 "nbformat": 4,
 "nbformat_minor": 1
}
