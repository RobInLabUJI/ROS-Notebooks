{
 "cells": [
  {
   "cell_type": "code",
   "execution_count": 1,
   "metadata": {},
   "outputs": [],
   "source": [
    "from try_a_bot.turtle import TurtleBot"
   ]
  },
  {
   "cell_type": "code",
   "execution_count": 2,
   "metadata": {},
   "outputs": [],
   "source": [
    "robot = TurtleBot()"
   ]
  },
  {
   "cell_type": "code",
   "execution_count": 3,
   "metadata": {},
   "outputs": [],
   "source": [
    "import math\n",
    "WHEEL_DIAMETER = 24.0\n",
    "SONAR_THRESHOLD = 0.5\n",
    "DEF_YAW_SPEED = 0.5"
   ]
  },
  {
   "cell_type": "code",
   "execution_count": 4,
   "metadata": {},
   "outputs": [],
   "source": [
    "LEFT_BACK = 0\n",
    "LEFT = 120\n",
    "LEFT_FRONT = 240 \n",
    "FRONT_LEFT = 300\n",
    "FRONT = 360\n",
    "FRONT_RIGHT = 420\n",
    "RIGHT_FRONT = 480\n",
    "RIGHT = 600\n",
    "RIGHT_BACK = 719"
   ]
  },
  {
   "cell_type": "code",
   "execution_count": 5,
   "metadata": {},
   "outputs": [],
   "source": [
    "try:\n",
    "    for i in range(500):\n",
    "        ranges = robot.ranges\n",
    "        leftSide = (ranges[LEFT] + ranges[LEFT_FRONT] + ranges[LEFT_BACK]) / 3\n",
    "        rightSide = (ranges[RIGHT] + ranges[RIGHT_FRONT] + ranges[RIGHT_BACK]) / 3\n",
    "\n",
    "        leftSide = leftSide / 25\n",
    "        rightSide = rightSide / 25\n",
    "        xspeed = (leftSide + rightSide) / 2\n",
    "        yawspeed = (leftSide - rightSide) * (180 / math.pi) / WHEEL_DIAMETER\n",
    "\n",
    "        if (  ranges[FRONT_LEFT]  > SONAR_THRESHOLD \n",
    "          and ranges[FRONT]       > SONAR_THRESHOLD\n",
    "          and ranges[FRONT_RIGHT] > SONAR_THRESHOLD ):\n",
    "            robot.move(xspeed,yawspeed)\n",
    "        else:\n",
    "            if ranges[FRONT_LEFT] < ranges[FRONT_RIGHT]:\n",
    "                robot.move(0,-DEF_YAW_SPEED)\n",
    "            else:\n",
    "                robot.move(0,DEF_YAW_SPEED)\n",
    "        robot.sleep(0.1)\n",
    "except KeyboardInterrupt:\n",
    "    pass\n",
    "robot.move(0,0)"
   ]
  },
  {
   "cell_type": "code",
   "execution_count": null,
   "metadata": {},
   "outputs": [],
   "source": []
  }
 ],
 "metadata": {
  "kernelspec": {
   "display_name": "Python 2",
   "language": "python",
   "name": "python2"
  },
  "language_info": {
   "codemirror_mode": {
    "name": "ipython",
    "version": 2
   },
   "file_extension": ".py",
   "mimetype": "text/x-python",
   "name": "python",
   "nbconvert_exporter": "python",
   "pygments_lexer": "ipython2",
   "version": "2.7.6"
  }
 },
 "nbformat": 4,
 "nbformat_minor": 1
}
